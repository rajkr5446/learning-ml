{
  "nbformat": 4,
  "nbformat_minor": 0,
  "metadata": {
    "colab": {
      "provenance": [],
      "authorship_tag": "ABX9TyM42AI8/Eo257rf9GKXp2hW",
      "include_colab_link": true
    },
    "kernelspec": {
      "name": "python3",
      "display_name": "Python 3"
    },
    "language_info": {
      "name": "python"
    }
  },
  "cells": [
    {
      "cell_type": "markdown",
      "metadata": {
        "id": "view-in-github",
        "colab_type": "text"
      },
      "source": [
        "<a href=\"https://colab.research.google.com/github/rajkr5446/learning-ml/blob/numpy/Numpy.ipynb\" target=\"_parent\"><img src=\"https://colab.research.google.com/assets/colab-badge.svg\" alt=\"Open In Colab\"/></a>"
      ]
    },
    {
      "cell_type": "markdown",
      "source": [
        "# Basics of Numpy"
      ],
      "metadata": {
        "id": "sg1lCJA7xvou"
      }
    },
    {
      "cell_type": "code",
      "execution_count": null,
      "metadata": {
        "id": "KWwJR1LAolco"
      },
      "outputs": [],
      "source": [
        "import numpy as np"
      ]
    },
    {
      "cell_type": "code",
      "source": [
        "np_array = np.array([i for i in range(10)])\n",
        "print(np_array)"
      ],
      "metadata": {
        "colab": {
          "base_uri": "https://localhost:8080/"
        },
        "id": "z4dQOb4Tqu2k",
        "outputId": "5384e59a-1080-4274-a5fb-f973e305015b"
      },
      "execution_count": null,
      "outputs": [
        {
          "output_type": "stream",
          "name": "stdout",
          "text": [
            "[0 1 2 3 4 5 6 7 8 9]\n"
          ]
        }
      ]
    },
    {
      "cell_type": "code",
      "source": [
        "type(np_array)"
      ],
      "metadata": {
        "colab": {
          "base_uri": "https://localhost:8080/"
        },
        "id": "2sMBUg0gq6U1",
        "outputId": "0c87a96f-6eed-46e7-cd6c-bf6ae55ec5df"
      },
      "execution_count": null,
      "outputs": [
        {
          "output_type": "execute_result",
          "data": {
            "text/plain": [
              "numpy.ndarray"
            ]
          },
          "metadata": {},
          "execution_count": 3
        }
      ]
    },
    {
      "cell_type": "markdown",
      "source": [
        "#Creating a multi-dimensional array"
      ],
      "metadata": {
        "id": "WSja7iJsrnK5"
      }
    },
    {
      "cell_type": "code",
      "source": [
        "#creating a 1-d array\n",
        "a = np.array([1, 2, 3, 4, 5])\n",
        "print(a)\n",
        "a.shape"
      ],
      "metadata": {
        "colab": {
          "base_uri": "https://localhost:8080/"
        },
        "id": "uSKn1JGrrh3-",
        "outputId": "35da4445-fdf7-4cbf-986d-99bbc58ba456"
      },
      "execution_count": null,
      "outputs": [
        {
          "output_type": "stream",
          "name": "stdout",
          "text": [
            "[1 2 3 4 5]\n"
          ]
        },
        {
          "output_type": "execute_result",
          "data": {
            "text/plain": [
              "(5,)"
            ]
          },
          "metadata": {},
          "execution_count": 9
        }
      ]
    },
    {
      "cell_type": "markdown",
      "source": [
        "*   np_array.shape ->> (number of rows, number of columns)\n",
        "*   for 1-D array it just gives (number of columns, )"
      ],
      "metadata": {
        "id": "xoDvuqlbtftP"
      }
    },
    {
      "cell_type": "code",
      "source": [
        "b = np.array([[1], [2], [3]])\n",
        "print(b)\n",
        "b.shape"
      ],
      "metadata": {
        "colab": {
          "base_uri": "https://localhost:8080/"
        },
        "id": "_cvZ-Jsyrz6m",
        "outputId": "948e3194-f9b4-4021-a6bf-b92f8ff75465"
      },
      "execution_count": null,
      "outputs": [
        {
          "output_type": "stream",
          "name": "stdout",
          "text": [
            "[[1]\n",
            " [2]\n",
            " [3]]\n"
          ]
        },
        {
          "output_type": "execute_result",
          "data": {
            "text/plain": [
              "(3, 1)"
            ]
          },
          "metadata": {},
          "execution_count": 12
        }
      ]
    },
    {
      "cell_type": "code",
      "source": [
        "c = np.array([[1, 2, 3], [4, 5, 6], [7, 8, 9]])\n",
        "print(c)\n",
        "c.shape"
      ],
      "metadata": {
        "colab": {
          "base_uri": "https://localhost:8080/"
        },
        "id": "Q8Pti0iDs_LG",
        "outputId": "72c2318f-01ac-4a60-845d-859afe227cec"
      },
      "execution_count": null,
      "outputs": [
        {
          "output_type": "stream",
          "name": "stdout",
          "text": [
            "[[1 2 3]\n",
            " [4 5 6]\n",
            " [7 8 9]]\n"
          ]
        },
        {
          "output_type": "execute_result",
          "data": {
            "text/plain": [
              "(3, 3)"
            ]
          },
          "metadata": {},
          "execution_count": 13
        }
      ]
    },
    {
      "cell_type": "markdown",
      "source": [
        "# Numpy arrays with floating points"
      ],
      "metadata": {
        "id": "l2b6j6hduPKv"
      }
    },
    {
      "cell_type": "code",
      "source": [
        "d = np.array([[1, 2, 3, 4], [5, 6, 7, 8]], dtype=float)\n",
        "print(d)"
      ],
      "metadata": {
        "colab": {
          "base_uri": "https://localhost:8080/"
        },
        "id": "Sp9fjq_LtOu6",
        "outputId": "bbb4e5b0-10c3-4e9c-af79-e6b6377193bd"
      },
      "execution_count": null,
      "outputs": [
        {
          "output_type": "stream",
          "name": "stdout",
          "text": [
            "[[1. 2. 3. 4.]\n",
            " [5. 6. 7. 8.]]\n"
          ]
        }
      ]
    },
    {
      "cell_type": "markdown",
      "source": [
        "# Initializing array with values\n",
        "\n",
        "\n"
      ],
      "metadata": {
        "id": "NfsFjIY4u-Tr"
      }
    },
    {
      "cell_type": "code",
      "source": [
        "#initial value 0   3 rows and 4 columns\n",
        "x = np.zeros((3, 4))\n",
        "print(x)"
      ],
      "metadata": {
        "colab": {
          "base_uri": "https://localhost:8080/"
        },
        "id": "Sg9Fzo_Uuioj",
        "outputId": "c8b45736-99d9-44f5-d83f-0fefa3760d4e"
      },
      "execution_count": null,
      "outputs": [
        {
          "output_type": "stream",
          "name": "stdout",
          "text": [
            "[[0. 0. 0. 0.]\n",
            " [0. 0. 0. 0.]\n",
            " [0. 0. 0. 0.]]\n"
          ]
        }
      ]
    },
    {
      "cell_type": "code",
      "source": [
        "#initial value 1   3 rows and 4 columns\n",
        "y = np.ones((3, 4))\n",
        "print(y)"
      ],
      "metadata": {
        "colab": {
          "base_uri": "https://localhost:8080/"
        },
        "id": "Oqq0GSe4wisB",
        "outputId": "088b3a62-5a1e-4121-807b-685400eb44a5"
      },
      "execution_count": null,
      "outputs": [
        {
          "output_type": "stream",
          "name": "stdout",
          "text": [
            "[[1. 1. 1. 1.]\n",
            " [1. 1. 1. 1.]\n",
            " [1. 1. 1. 1.]]\n"
          ]
        }
      ]
    },
    {
      "cell_type": "markdown",
      "source": [
        "we can note that functions zeros and ones by default create floating data types"
      ],
      "metadata": {
        "id": "_L03-uK6w1Jt"
      }
    },
    {
      "cell_type": "code",
      "source": [
        "#initial value 5  3 rows and 4 columns\n",
        "z = np.full((3, 4), 5)\n",
        "print(z)"
      ],
      "metadata": {
        "colab": {
          "base_uri": "https://localhost:8080/"
        },
        "id": "eyaoUB2Uwz_E",
        "outputId": "1c208229-07b5-45c5-dc37-577f25776db0"
      },
      "execution_count": null,
      "outputs": [
        {
          "output_type": "stream",
          "name": "stdout",
          "text": [
            "[[5 5 5 5]\n",
            " [5 5 5 5]\n",
            " [5 5 5 5]]\n"
          ]
        }
      ]
    },
    {
      "cell_type": "markdown",
      "source": [
        "using below code we can change the default float data type of zeros and ones"
      ],
      "metadata": {
        "id": "bKjayrN9xQw6"
      }
    },
    {
      "cell_type": "code",
      "source": [
        "#initial value 1   3 rows and 4 columns\n",
        "y = np.ones((3, 4), dtype=int)\n",
        "print(y)"
      ],
      "metadata": {
        "colab": {
          "base_uri": "https://localhost:8080/"
        },
        "id": "FApM-fdNxI5F",
        "outputId": "fdac9c3d-3291-4ab1-a941-0b4d84416c7a"
      },
      "execution_count": null,
      "outputs": [
        {
          "output_type": "stream",
          "name": "stdout",
          "text": [
            "[[1 1 1 1]\n",
            " [1 1 1 1]\n",
            " [1 1 1 1]]\n"
          ]
        }
      ]
    },
    {
      "cell_type": "code",
      "source": [],
      "metadata": {
        "id": "V4Q_sqS1xPc5"
      },
      "execution_count": null,
      "outputs": []
    },
    {
      "cell_type": "markdown",
      "source": [
        "# Creating identity matrix"
      ],
      "metadata": {
        "id": "A4Tb8Dh5x3SR"
      }
    },
    {
      "cell_type": "code",
      "source": [
        "#here we pass only one value of shape as identity matrix is a square matrix\n",
        "id_mat = np.eye(4)\n",
        "print(id_mat)"
      ],
      "metadata": {
        "colab": {
          "base_uri": "https://localhost:8080/"
        },
        "id": "g0wo7V2Nx7Yg",
        "outputId": "245945fd-893a-4cbf-99db-9364f728bb36"
      },
      "execution_count": null,
      "outputs": [
        {
          "output_type": "stream",
          "name": "stdout",
          "text": [
            "[[1. 0. 0. 0.]\n",
            " [0. 1. 0. 0.]\n",
            " [0. 0. 1. 0.]\n",
            " [0. 0. 0. 1.]]\n"
          ]
        }
      ]
    },
    {
      "cell_type": "code",
      "source": [
        "#can we change the default float data type?\n",
        "id_mat = np.eye(4, dtype=int)\n",
        "print(id_mat)"
      ],
      "metadata": {
        "colab": {
          "base_uri": "https://localhost:8080/"
        },
        "id": "oruER94_ye02",
        "outputId": "cf7a0206-32d7-404b-bb41-7570d8db4166"
      },
      "execution_count": null,
      "outputs": [
        {
          "output_type": "stream",
          "name": "stdout",
          "text": [
            "[[1 0 0 0]\n",
            " [0 1 0 0]\n",
            " [0 0 1 0]\n",
            " [0 0 0 1]]\n"
          ]
        }
      ]
    },
    {
      "cell_type": "markdown",
      "source": [
        "# Creating array with random values"
      ],
      "metadata": {
        "id": "WjuDf3BhzwnG"
      }
    },
    {
      "cell_type": "code",
      "source": [
        "#this will create a 3x4 array with random float values b/w 0 and 1\n",
        "np_rand = np.random.random((3, 4))\n",
        "print(np_rand)"
      ],
      "metadata": {
        "colab": {
          "base_uri": "https://localhost:8080/"
        },
        "id": "3FbBWalyynLV",
        "outputId": "04d6c19c-8743-4453-9cc7-e8e9524b9fc8"
      },
      "execution_count": null,
      "outputs": [
        {
          "output_type": "stream",
          "name": "stdout",
          "text": [
            "[[0.62419863 0.28557704 0.69445548 0.88454401]\n",
            " [0.61247233 0.70612637 0.01158543 0.7093167 ]\n",
            " [0.64090894 0.5100294  0.02204294 0.46187924]]\n"
          ]
        }
      ]
    },
    {
      "cell_type": "code",
      "source": [
        "#to create a random integer values array within a specific range we have to use randint\n",
        "#below 10 is stating value, 100 is last value and shape is 3x4\n",
        "np_randInt = np.random.randint(10, 100, (3, 4))\n",
        "print(np_randInt)"
      ],
      "metadata": {
        "colab": {
          "base_uri": "https://localhost:8080/"
        },
        "id": "BHUh0W1m0EGu",
        "outputId": "db0f112a-153c-44ef-82c6-019f53024e37"
      },
      "execution_count": null,
      "outputs": [
        {
          "output_type": "stream",
          "name": "stdout",
          "text": [
            "[[78 79 31 20]\n",
            " [67 61 72 80]\n",
            " [43 15 90 72]]\n"
          ]
        }
      ]
    },
    {
      "cell_type": "markdown",
      "source": [
        "# Evenly spaced array"
      ],
      "metadata": {
        "id": "ZEtOR0TDNILA"
      }
    },
    {
      "cell_type": "code",
      "source": [
        "#evenly spaced array --> with size of array\n",
        "np_even = np.linspace(10, 30, 5)\n",
        "print(np_even)"
      ],
      "metadata": {
        "colab": {
          "base_uri": "https://localhost:8080/"
        },
        "id": "UAj8IpmV0ik9",
        "outputId": "7a155202-bb39-451f-f79b-ff01c63ecb85"
      },
      "execution_count": null,
      "outputs": [
        {
          "output_type": "stream",
          "name": "stdout",
          "text": [
            "[10. 15. 20. 25. 30.]\n"
          ]
        }
      ]
    },
    {
      "cell_type": "code",
      "source": [
        "#evenly spaced array --> with size of step\n",
        "np_even_step = np.arange(10, 30, 5)\n",
        "print(np_even_step)"
      ],
      "metadata": {
        "colab": {
          "base_uri": "https://localhost:8080/"
        },
        "id": "ywGDIZVuNn5Q",
        "outputId": "7ec49b9a-6bb5-4d75-8eb5-b28448bf9423"
      },
      "execution_count": null,
      "outputs": [
        {
          "output_type": "stream",
          "name": "stdout",
          "text": [
            "[10 15 20 25]\n"
          ]
        }
      ]
    },
    {
      "cell_type": "markdown",
      "source": [
        "we can note the difference that in **linspace** last value is **included** but in **arange** last value is **not included**"
      ],
      "metadata": {
        "id": "nSzfKVPTN5R_"
      }
    },
    {
      "cell_type": "markdown",
      "source": [
        "#Converting list to numpy array"
      ],
      "metadata": {
        "id": "IzR5BIs3Ordh"
      }
    },
    {
      "cell_type": "code",
      "source": [
        "p_list = [1, 2, 3, 4 ,5]\n",
        "print(p_list)\n",
        "np_list_array = np.asarray(p_list)\n",
        "print(np_list_array)"
      ],
      "metadata": {
        "colab": {
          "base_uri": "https://localhost:8080/"
        },
        "id": "90Q_rQHRN3aM",
        "outputId": "3a39bbe5-e039-4cfd-8396-71b1447ae446"
      },
      "execution_count": null,
      "outputs": [
        {
          "output_type": "stream",
          "name": "stdout",
          "text": [
            "[1, 2, 3, 4, 5]\n",
            "[1 2 3 4 5]\n"
          ]
        }
      ]
    },
    {
      "cell_type": "code",
      "source": [
        "#using this we can also convert tuple to numpy array\n",
        "p_tuple = (1, 2, 3, 4, 5)\n",
        "print(p_tuple)\n",
        "np_tuple_array = np.asarray(p_tuple)\n",
        "print(np_tuple_array)"
      ],
      "metadata": {
        "colab": {
          "base_uri": "https://localhost:8080/"
        },
        "id": "PaVHDuDaO_nw",
        "outputId": "9ea0db48-9316-4efa-c97b-228316b4875f"
      },
      "execution_count": null,
      "outputs": [
        {
          "output_type": "stream",
          "name": "stdout",
          "text": [
            "(1, 2, 3, 4, 5)\n",
            "[1 2 3 4 5]\n"
          ]
        }
      ]
    },
    {
      "cell_type": "markdown",
      "source": [
        "#Analysis of numpy array"
      ],
      "metadata": {
        "id": "1UvIw4cMQkyG"
      }
    },
    {
      "cell_type": "code",
      "source": [
        "#initialize a numpy array of random integers b/w 10 and 90 of size 5x5\n",
        "np_array_int = np.random.randint(10, 90, (5, 5))\n",
        "print(np_array_int)"
      ],
      "metadata": {
        "colab": {
          "base_uri": "https://localhost:8080/"
        },
        "id": "F73blf87PFef",
        "outputId": "35c80e64-a895-461b-f91e-6011a194ee85"
      },
      "execution_count": null,
      "outputs": [
        {
          "output_type": "stream",
          "name": "stdout",
          "text": [
            "[[56 77 22 76 57]\n",
            " [68 60 31 23 18]\n",
            " [75 65 71 89 17]\n",
            " [89 65 12 26 26]\n",
            " [40 66 65 38 54]]\n"
          ]
        }
      ]
    },
    {
      "cell_type": "markdown",
      "source": [
        "\n",
        "\n",
        "1.   Shape of array\n",
        "\n"
      ],
      "metadata": {
        "id": "H_cUCNfZRCtu"
      }
    },
    {
      "cell_type": "code",
      "source": [
        "np_array_int.shape"
      ],
      "metadata": {
        "colab": {
          "base_uri": "https://localhost:8080/"
        },
        "id": "0fGiuAkgQ-hL",
        "outputId": "4b98a8f2-a40f-423e-d070-a628a0742c24"
      },
      "execution_count": null,
      "outputs": [
        {
          "output_type": "execute_result",
          "data": {
            "text/plain": [
              "(5, 5)"
            ]
          },
          "metadata": {},
          "execution_count": 35
        }
      ]
    },
    {
      "cell_type": "code",
      "source": [],
      "metadata": {
        "id": "x88fWI-QRH1w"
      },
      "execution_count": null,
      "outputs": []
    },
    {
      "cell_type": "markdown",
      "source": [
        "\n",
        "\n",
        "2. Number of dimensions\n",
        "\n"
      ],
      "metadata": {
        "id": "rboqnDWjRKko"
      }
    },
    {
      "cell_type": "code",
      "source": [
        "np_array_int.ndim"
      ],
      "metadata": {
        "colab": {
          "base_uri": "https://localhost:8080/"
        },
        "id": "xHR2-gVwRQn7",
        "outputId": "08612460-6699-4d76-b654-3de40c39c0bb"
      },
      "execution_count": null,
      "outputs": [
        {
          "output_type": "execute_result",
          "data": {
            "text/plain": [
              "2"
            ]
          },
          "metadata": {},
          "execution_count": 36
        }
      ]
    },
    {
      "cell_type": "markdown",
      "source": [
        "3. number of elements (size)"
      ],
      "metadata": {
        "id": "qB1oZl-4RWA2"
      }
    },
    {
      "cell_type": "code",
      "source": [
        "np_array_int.size"
      ],
      "metadata": {
        "colab": {
          "base_uri": "https://localhost:8080/"
        },
        "id": "Jo1fXvwzRUu3",
        "outputId": "c01c289b-96b6-4d8c-ff26-a4b1c6b4768c"
      },
      "execution_count": null,
      "outputs": [
        {
          "output_type": "execute_result",
          "data": {
            "text/plain": [
              "25"
            ]
          },
          "metadata": {},
          "execution_count": 37
        }
      ]
    },
    {
      "cell_type": "markdown",
      "source": [
        "4. Datatype of elements"
      ],
      "metadata": {
        "id": "A4lQbE5XRjGL"
      }
    },
    {
      "cell_type": "code",
      "source": [
        "np_array_int.dtype"
      ],
      "metadata": {
        "colab": {
          "base_uri": "https://localhost:8080/"
        },
        "id": "L-M7kTAcRbWA",
        "outputId": "6bcb4779-89b3-448c-8615-c0674471165c"
      },
      "execution_count": null,
      "outputs": [
        {
          "output_type": "execute_result",
          "data": {
            "text/plain": [
              "dtype('int64')"
            ]
          },
          "metadata": {},
          "execution_count": 38
        }
      ]
    },
    {
      "cell_type": "markdown",
      "source": [
        "#Mathematical operations on numpy arrays"
      ],
      "metadata": {
        "id": "lDwfOjNMTEL7"
      }
    },
    {
      "cell_type": "code",
      "source": [
        "#when we try to add two lists it just joins them\n",
        "list_1 = [1, 2, 3, 4]\n",
        "list_2 = [5, 6, 7, 8]\n",
        "print(list_1 + list_2)"
      ],
      "metadata": {
        "colab": {
          "base_uri": "https://localhost:8080/"
        },
        "id": "AvJZuP1uRpHd",
        "outputId": "6fa8ad2a-0814-458c-e919-9fe5a18ba353"
      },
      "execution_count": null,
      "outputs": [
        {
          "output_type": "stream",
          "name": "stdout",
          "text": [
            "[1, 2, 3, 4, 5, 6, 7, 8]\n"
          ]
        }
      ]
    },
    {
      "cell_type": "code",
      "source": [
        "#but in numpy arrays we can do mathematical operations\n",
        "numpy_a = np.random.randint(0, 10, (3, 3))\n",
        "numpy_b = np.random.randint(10, 20, (3, 3))\n",
        "print(numpy_a)\n",
        "print(numpy_b)"
      ],
      "metadata": {
        "colab": {
          "base_uri": "https://localhost:8080/"
        },
        "id": "xkCNmLeMTORI",
        "outputId": "6e3d5028-92b3-4ddd-ff1e-621a98dab42a"
      },
      "execution_count": null,
      "outputs": [
        {
          "output_type": "stream",
          "name": "stdout",
          "text": [
            "[[6 3 4]\n",
            " [3 3 6]\n",
            " [0 3 1]]\n",
            "[[10 16 15]\n",
            " [15 14 13]\n",
            " [15 16 11]]\n"
          ]
        }
      ]
    },
    {
      "cell_type": "markdown",
      "source": [
        "1. Addition"
      ],
      "metadata": {
        "id": "6MbcptqLTz9f"
      }
    },
    {
      "cell_type": "code",
      "source": [
        "print(numpy_a +numpy_b)\n",
        "print(np.add(numpy_a, numpy_b))"
      ],
      "metadata": {
        "colab": {
          "base_uri": "https://localhost:8080/"
        },
        "id": "UycmnN9qTgSN",
        "outputId": "8e6e9227-8add-439d-9c3a-0de87ffc723f"
      },
      "execution_count": null,
      "outputs": [
        {
          "output_type": "stream",
          "name": "stdout",
          "text": [
            "[[16 19 19]\n",
            " [18 17 19]\n",
            " [15 19 12]]\n",
            "[[16 19 19]\n",
            " [18 17 19]\n",
            " [15 19 12]]\n"
          ]
        }
      ]
    },
    {
      "cell_type": "markdown",
      "source": [
        "2. Subtraction"
      ],
      "metadata": {
        "id": "et-9tW4oUDbC"
      }
    },
    {
      "cell_type": "code",
      "source": [
        "print(numpy_a - numpy_b)\n",
        "print(np.subtract(numpy_a, numpy_b))"
      ],
      "metadata": {
        "colab": {
          "base_uri": "https://localhost:8080/"
        },
        "id": "9SmpxDRNT60P",
        "outputId": "dad75160-7883-455a-ad50-cad568b24a2c"
      },
      "execution_count": null,
      "outputs": [
        {
          "output_type": "stream",
          "name": "stdout",
          "text": [
            "[[ -4 -13 -11]\n",
            " [-12 -11  -7]\n",
            " [-15 -13 -10]]\n",
            "[[ -4 -13 -11]\n",
            " [-12 -11  -7]\n",
            " [-15 -13 -10]]\n"
          ]
        }
      ]
    },
    {
      "cell_type": "markdown",
      "source": [
        "3. Multiplication"
      ],
      "metadata": {
        "id": "65SyHB_bUOiR"
      }
    },
    {
      "cell_type": "code",
      "source": [
        "print(numpy_a * numpy_b)\n",
        "print(np.multiply(numpy_a, numpy_b))"
      ],
      "metadata": {
        "colab": {
          "base_uri": "https://localhost:8080/"
        },
        "id": "EvM2vbfSUMMM",
        "outputId": "371c0a8c-6b87-4380-abc1-3f96eb678810"
      },
      "execution_count": null,
      "outputs": [
        {
          "output_type": "stream",
          "name": "stdout",
          "text": [
            "[[60 48 60]\n",
            " [45 42 78]\n",
            " [ 0 48 11]]\n",
            "[[60 48 60]\n",
            " [45 42 78]\n",
            " [ 0 48 11]]\n"
          ]
        }
      ]
    },
    {
      "cell_type": "markdown",
      "source": [
        "4. Division"
      ],
      "metadata": {
        "id": "Q6yucA5VUXyO"
      }
    },
    {
      "cell_type": "code",
      "source": [
        "print(numpy_a / numpy_b)\n",
        "print(np.divide(numpy_a, numpy_b))"
      ],
      "metadata": {
        "colab": {
          "base_uri": "https://localhost:8080/"
        },
        "id": "dd0990tUUT-r",
        "outputId": "e1f37424-264d-432c-e670-2cb3e13b54ac"
      },
      "execution_count": null,
      "outputs": [
        {
          "output_type": "stream",
          "name": "stdout",
          "text": [
            "[[0.6        0.1875     0.26666667]\n",
            " [0.2        0.21428571 0.46153846]\n",
            " [0.         0.1875     0.09090909]]\n",
            "[[0.6        0.1875     0.26666667]\n",
            " [0.2        0.21428571 0.46153846]\n",
            " [0.         0.1875     0.09090909]]\n"
          ]
        }
      ]
    },
    {
      "cell_type": "markdown",
      "source": [
        "#Numpy array manipulations"
      ],
      "metadata": {
        "id": "DxeYMJcMWUhT"
      }
    },
    {
      "cell_type": "markdown",
      "source": [
        "1. Transpose"
      ],
      "metadata": {
        "id": "46xiK88RWg00"
      }
    },
    {
      "cell_type": "code",
      "source": [
        "np_array_rand = np.random.randint(0, 10, (2, 3))\n",
        "print(np_array_rand)\n",
        "print(np_array_rand.shape)"
      ],
      "metadata": {
        "colab": {
          "base_uri": "https://localhost:8080/"
        },
        "id": "m-YefhLZXAAL",
        "outputId": "7da120f0-eb6a-48d9-f4ba-cb7ecd842650"
      },
      "execution_count": null,
      "outputs": [
        {
          "output_type": "stream",
          "name": "stdout",
          "text": [
            "[[4 8 5]\n",
            " [4 1 2]]\n",
            "(2, 3)\n"
          ]
        }
      ]
    },
    {
      "cell_type": "code",
      "source": [
        "#Transpose --> using np.transpose\n",
        "trans1 = np.transpose(np_array_rand)\n",
        "print(trans1)\n",
        "print(trans1.shape)"
      ],
      "metadata": {
        "colab": {
          "base_uri": "https://localhost:8080/"
        },
        "id": "lA1cIiYHUcFZ",
        "outputId": "38a55205-c2e6-416e-a3ef-77aa60553c51"
      },
      "execution_count": null,
      "outputs": [
        {
          "output_type": "stream",
          "name": "stdout",
          "text": [
            "[[4 4]\n",
            " [8 1]\n",
            " [5 2]]\n",
            "(3, 2)\n"
          ]
        }
      ]
    },
    {
      "cell_type": "code",
      "source": [
        "#Transpose --> using np_array.T\n",
        "trans2 = np_array_rand.T\n",
        "print(trans2)\n",
        "print(trans2.shape)"
      ],
      "metadata": {
        "colab": {
          "base_uri": "https://localhost:8080/"
        },
        "id": "oqIwW-YPXLay",
        "outputId": "fdffdbe8-9519-45e1-b673-15355bc0b1e3"
      },
      "execution_count": null,
      "outputs": [
        {
          "output_type": "stream",
          "name": "stdout",
          "text": [
            "[[4 4]\n",
            " [8 1]\n",
            " [5 2]]\n",
            "(3, 2)\n"
          ]
        }
      ]
    },
    {
      "cell_type": "markdown",
      "source": [
        "2. Reshaping an array"
      ],
      "metadata": {
        "id": "JYjCs2hYXcIJ"
      }
    },
    {
      "cell_type": "code",
      "source": [
        "#reshaping using np_array.reshape\n",
        "np_array_rand_reshaped = np_array_rand.reshape(3, 2)\n",
        "print(np_array_rand_reshaped)\n",
        "print(np_array_rand_reshaped.shape)"
      ],
      "metadata": {
        "colab": {
          "base_uri": "https://localhost:8080/"
        },
        "id": "OafUr95EXRmF",
        "outputId": "822d81c3-44b1-4832-8c0d-be7daff977e1"
      },
      "execution_count": null,
      "outputs": [
        {
          "output_type": "stream",
          "name": "stdout",
          "text": [
            "[[4 8]\n",
            " [5 4]\n",
            " [1 2]]\n",
            "(3, 2)\n"
          ]
        }
      ]
    }
  ]
}